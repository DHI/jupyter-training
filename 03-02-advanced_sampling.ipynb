{
 "cells": [
  {
   "cell_type": "markdown",
   "metadata": {},
   "source": [
    "## Advanced Sampling and Experimental Design\n",
    "\n",
    "Monte-Carlo simulations based on randomized parameter sets are easy to create and prevents intoducing statistical bias by the sampling method (\"pure basian approach\").\n",
    "\n",
    "They require however a large number of runs to make sure that the parameter space has been adequately covered by the sample set. This is a problem where model computation time is significant, which is very often the case.\n",
    "\n",
    "A number of techniques have been developed to optimize the coverage of the parameter space. A selection of them is shown here.\n",
    "\n",
    "Note: The example code uses the `pyDOE` library, see https://pythonhosted.org/pyDOE/randomized.html"
   ]
  },
  {
   "cell_type": "code",
   "execution_count": 1,
   "metadata": {
    "ExecuteTime": {
     "end_time": "2018-09-24T21:07:45.373000Z",
     "start_time": "2018-09-24T21:07:45.032000Z"
    },
    "collapsed": true
   },
   "outputs": [],
   "source": [
    "import pyDOE as pydoe\n",
    "\n",
    "import matplotlib.pyplot as plt\n",
    "%matplotlib inline"
   ]
  },
  {
   "attachments": {
    "image.png": {
     "image/png": "[encoded data removed]"
    }
   },
   "cell_type": "markdown",
   "metadata": {},
   "source": [
    "## Pseudo-Random Sampling\n",
    "\n",
    "In randomized sample sets, it may happen that the parameter values of a simulation run are similar or equal to parameters values of a previous, already calculated scenario. In this case, the gain of additional information is reduced.\n",
    "\n",
    "To avoid this, so-called [pseudo-random distributions](https://en.wikipedia.org/wiki/Pseudo-random_number_sampling) are used. Of these techniques, only Latin Hypercube Sampling will be shown here. More sampling methods are provided by the [GNU Scientific Library](https://en.wikipedia.org/wiki/GNU_Scientific_Library) which provides information and functionality.\n",
    "\n",
    "\n",
    "### Latin Hypercube Sampling\n",
    "\n",
    "Good for:\n",
    "+ you can afford a fixed number of runs\n",
    "+ you need minimum statistical bias in a Monte-Carlo Simulation\n",
    "\n",
    "Latin Hypercube sampling is often used to create data sets for use in Monte-Carlo simulations. The fundamental principle is to create a test plan, that provides optimal coverage of the range of all parameters under a given set of samples.\n",
    "\n",
    "The principle is best described by a latin square, in which each row and each column must be filled:\n",
    "\n",
    "![image.png](attachment:image.png)\n",
    "\n",
    "\n",
    "\n",
    "The test plan above covers the range of both parameters with 4 values each, using only 4 sample/simulation runs.\n",
    "\n",
    "The latin Hypercube method is a generalization of this idea, working with an n-dimensional parameter space (hence hyper-cube). "
   ]
  },
  {
   "cell_type": "code",
   "execution_count": 2,
   "metadata": {
    "ExecuteTime": {
     "end_time": "2018-09-24T21:07:45.550000Z",
     "start_time": "2018-09-24T21:07:45.379000Z"
    }
   },
   "outputs": [
    {
     "name": "stdout",
     "output_type": "stream",
     "text": [
      "[[0.60972446 0.17225336]\n",
      " [0.58200472 0.15264338]]\n"
     ]
    },
    {
     "data": {
      "image/png": "[encoded data removed]",
      "text/plain": [
       "<matplotlib.figure.Figure at 0xa9662e8>"
      ]
     },
     "metadata": {},
     "output_type": "display_data"
    },
    {
     "name": "stdout",
     "output_type": "stream",
     "text": [
      "Latin-Hypercube Sampling (3 factors, 5 samples)\n"
     ]
    }
   ],
   "source": [
    "design = pydoe.lhs(n=2)\n",
    "print(design.T)\n",
    "plt.matshow(design.T, fignum=False, vmin=0, vmax=1)\n",
    "plt.xlabel(\"Samples\")\n",
    "plt.ylabel(\"Factors\")\n",
    "plt.colorbar()\n",
    "plt.show()\n",
    "print(\"Latin-Hypercube Sampling (3 factors, 5 samples)\")"
   ]
  },
  {
   "cell_type": "markdown",
   "metadata": {},
   "source": [
    "Instead of discrete factor levels as above, a continuous distribution is provided.\n",
    "\n",
    "LHS experiental designs are useful for higher dimensional tests."
   ]
  },
  {
   "cell_type": "code",
   "execution_count": 3,
   "metadata": {
    "ExecuteTime": {
     "end_time": "2018-09-24T21:07:45.819000Z",
     "start_time": "2018-09-24T21:07:45.660000Z"
    },
    "scrolled": false
   },
   "outputs": [
    {
     "name": "stdout",
     "output_type": "stream",
     "text": [
      "[[0.58952033 0.21964257 0.92626897 0.7304922  0.13186813 0.36480165]\n",
      " [0.46124107 0.83571342 0.72614289 0.08644518 0.50270935 0.22707862]\n",
      " [0.87301783 0.40877237 0.21112037 0.09852353 0.54923608 0.80755056]\n",
      " [0.49784546 0.13497244 0.1818623  0.98215085 0.70803466 0.59406621]\n",
      " [0.9120529  0.74757998 0.04310825 0.59763297 0.22572315 0.38679387]]\n"
     ]
    },
    {
     "data": {
      "image/png": "[encoded data removed]",
      "text/plain": [
       "<matplotlib.figure.Figure at 0x8917748>"
      ]
     },
     "metadata": {},
     "output_type": "display_data"
    },
    {
     "name": "stdout",
     "output_type": "stream",
     "text": [
      "Latin-Hypercube Sampling (5 factors, 6 samples)\n"
     ]
    }
   ],
   "source": [
    "design = pydoe.lhs(n=5, samples=6)\n",
    "print(design.T)\n",
    "plt.matshow(design.T, fignum=False, vmin=0, vmax=1)\n",
    "plt.xlabel(\"Samples\")\n",
    "plt.ylabel(\"Factors\")\n",
    "plt.colorbar()\n",
    "plt.show()\n",
    "print(\"Latin-Hypercube Sampling (5 factors, 6 samples)\")"
   ]
  },
  {
   "cell_type": "markdown",
   "metadata": {},
   "source": [
    "#### transforming factor levels to parameter values\n",
    "\n",
    "The factor levels between 0 and 1 need to be translated into actual parameter values yet before they can be applied in the model.\n",
    "\n",
    "Because the LHS provides a uniform distribution, we first need to transform them into a normal- or log-normal distrubtion first:"
   ]
  },
  {
   "cell_type": "code",
   "execution_count": 4,
   "metadata": {
    "ExecuteTime": {
     "end_time": "2018-09-24T21:07:46.389000Z",
     "start_time": "2018-09-24T21:07:45.962000Z"
    }
   },
   "outputs": [
    {
     "name": "stdout",
     "output_type": "stream",
     "text": [
      "[[ 0.22631125 -0.09730757  1.14077313 -0.00540066  1.35350549]\n",
      " [-0.77340093  0.97699189 -0.23070404 -1.10318948  0.66689369]\n",
      " [ 1.44855442  0.60118884 -0.80253985 -0.90829079 -1.71570258]\n",
      " [ 0.61430229 -1.36297507 -1.29001034  2.10034722  0.24722506]\n",
      " [-1.11760374  0.00679139  0.12373153  0.54765229 -0.753006  ]\n",
      " [-0.34565327 -0.7485023   0.86890538  0.23801743 -0.28768517]]\n"
     ]
    },
    {
     "data": {
      "image/png": "[encoded data removed]",
      "text/plain": [
       "<matplotlib.figure.Figure at 0xb8965c0>"
      ]
     },
     "metadata": {},
     "output_type": "display_data"
    }
   ],
   "source": [
    "# scipy provides functions for statistical distributions\n",
    "from scipy.stats.distributions import norm, lognorm\n",
    "\n",
    "# transform the uniform distributed values to normal distributed\n",
    "design_normaldist = norm().ppf(design)  \n",
    "print(design_normaldist)\n",
    "\n",
    "plt.matshow(design_normaldist.T, fignum=False)\n",
    "plt.xlabel(\"Samples\")\n",
    "plt.ylabel(\"Factors\")\n",
    "plt.colorbar()\n",
    "plt.show()"
   ]
  },
  {
   "cell_type": "markdown",
   "metadata": {},
   "source": [
    "The values are now corresponding to the required PDF, but are still normed to mean value of zero and sigma = 1.\n",
    "\n",
    "We therefore apply a scaling factor to get the correct distrutuion on the parameter axis:\n",
    "Say we want to transform these designs to be normally distributed with means and standard deviations according to the spreadsheet we used earlier:"
   ]
  },
  {
   "cell_type": "code",
   "execution_count": 5,
   "metadata": {
    "ExecuteTime": {
     "end_time": "2018-09-24T21:07:46.662000Z",
     "start_time": "2018-09-24T21:07:46.393000Z"
    }
   },
   "outputs": [
    {
     "data": {
      "text/html": [
       "<div>\n",
       "<style scoped>\n",
       "    .dataframe tbody tr th:only-of-type {\n",
       "        vertical-align: middle;\n",
       "    }\n",
       "\n",
       "    .dataframe tbody tr th {\n",
       "        vertical-align: top;\n",
       "    }\n",
       "\n",
       "    .dataframe thead th {\n",
       "        text-align: right;\n",
       "    }\n",
       "</style>\n",
       "<table border=\"1\" class=\"dataframe\">\n",
       "  <thead>\n",
       "    <tr style=\"text-align: right;\">\n",
       "      <th></th>\n",
       "      <th>zone</th>\n",
       "      <th>PDF</th>\n",
       "      <th>mean</th>\n",
       "      <th>stdev</th>\n",
       "    </tr>\n",
       "    <tr>\n",
       "      <th>parameter</th>\n",
       "      <th></th>\n",
       "      <th></th>\n",
       "      <th></th>\n",
       "      <th></th>\n",
       "    </tr>\n",
       "  </thead>\n",
       "  <tbody>\n",
       "    <tr>\n",
       "      <th>conductivity_body</th>\n",
       "      <td>Body</td>\n",
       "      <td>log-normal</td>\n",
       "      <td>8.6400</td>\n",
       "      <td>0.500000</td>\n",
       "    </tr>\n",
       "    <tr>\n",
       "      <th>conductivity_sealing</th>\n",
       "      <td>Sealing</td>\n",
       "      <td>log-normal</td>\n",
       "      <td>0.0864</td>\n",
       "      <td>0.632456</td>\n",
       "    </tr>\n",
       "    <tr>\n",
       "      <th>porosity</th>\n",
       "      <td>Domain</td>\n",
       "      <td>normal</td>\n",
       "      <td>0.2000</td>\n",
       "      <td>0.200000</td>\n",
       "    </tr>\n",
       "  </tbody>\n",
       "</table>\n",
       "</div>"
      ],
      "text/plain": [
       "                         zone         PDF    mean     stdev\n",
       "parameter                                                  \n",
       "conductivity_body        Body  log-normal  8.6400  0.500000\n",
       "conductivity_sealing  Sealing  log-normal  0.0864  0.632456\n",
       "porosity               Domain      normal  0.2000  0.200000"
      ]
     },
     "execution_count": 5,
     "metadata": {},
     "output_type": "execute_result"
    }
   ],
   "source": [
    "import pandas as pd\n",
    "df_priorknowledge = pd.read_excel(\"./prior_knowledge.xlsx\")\n",
    "df_priorknowledge.set_index(\"parameter\", inplace=True)\n",
    "df_priorknowledge"
   ]
  },
  {
   "cell_type": "code",
   "execution_count": 6,
   "metadata": {
    "ExecuteTime": {
     "end_time": "2018-09-24T21:07:46.676000Z",
     "start_time": "2018-09-24T21:07:46.667000Z"
    },
    "collapsed": true
   },
   "outputs": [],
   "source": [
    "pdfs = df_priorknowledge[\"PDF\"].values  # vec\n",
    "means = df_priorknowledge[\"mean\"].values  # vector of mean values\n",
    "stdvs = df_priorknowledge[\"stdev\"].values  # vector of standard deviations."
   ]
  },
  {
   "cell_type": "markdown",
   "metadata": {},
   "source": [
    "With these values, we create a new LHS design with 3 factors and 250 model runs."
   ]
  },
  {
   "cell_type": "code",
   "execution_count": 7,
   "metadata": {
    "ExecuteTime": {
     "end_time": "2018-09-24T21:07:46.694000Z",
     "start_time": "2018-09-24T21:07:46.680000Z"
    },
    "collapsed": true
   },
   "outputs": [],
   "source": [
    "# create design (uniform distribution)\n",
    "design = pydoe.lhs(n=3, samples=250)"
   ]
  },
  {
   "cell_type": "code",
   "execution_count": 8,
   "metadata": {
    "ExecuteTime": {
     "end_time": "2018-09-24T21:07:46.716000Z",
     "start_time": "2018-09-24T21:07:46.697000Z"
    }
   },
   "outputs": [],
   "source": [
    "# apply transformation / scaling according to spreadsheet\n",
    "for i in range(len(df_priorknowledge)):\n",
    "    if pdfs[i] == \"normal\":\n",
    "        design[:, i] = norm(loc=means[i], scale=stdvs[i]**2).ppf(design[:, i])\n",
    "    if pdfs[i] == \"log-normal\":\n",
    "        design[:, i] = lognorm(s=stdvs[i], scale=means[i]).ppf(design[:, i])"
   ]
  },
  {
   "cell_type": "markdown",
   "metadata": {},
   "source": [
    "**Remember to always visually inspect the generated distribution!!** \n",
    "\n",
    "Just typing in numbers is error prone and you may not find the mistake until after running the expensive simulations (or even worse: not at all).\n",
    "\n",
    "Figure below compares the expected distribution to the realized one, but the more important check is if these distributions is what a field hydrogeologist would approve. "
   ]
  },
  {
   "cell_type": "code",
   "execution_count": 9,
   "metadata": {
    "ExecuteTime": {
     "end_time": "2018-09-24T21:07:47.564000Z",
     "start_time": "2018-09-24T21:07:46.973000Z"
    }
   },
   "outputs": [
    {
     "data": {
      "text/plain": [
       "<matplotlib.legend.Legend at 0xe6884a8>"
      ]
     },
     "execution_count": 9,
     "metadata": {},
     "output_type": "execute_result"
    },
    {
     "data": {
      "image/png": "[encoded data removed]",
      "text/plain": [
       "<matplotlib.figure.Figure at 0xdf52fd0>"
      ]
     },
     "metadata": {},
     "output_type": "display_data"
    }
   ],
   "source": [
    "import numpy as np\n",
    "fig, (ax1, ax2, ax3) = plt.subplots(3,1, figsize=(8,6))\n",
    "\n",
    "ax1.hist(design[:,0], bins=25, label=\"random sample\", normed=True)\n",
    "x = np.arange(0,50,0.001)\n",
    "ax1.plot(x, lognorm(s=stdvs[0], scale=means[0]).pdf(x), \"r-\", label=\"log-normal\", )\n",
    "ax1.legend()\n",
    "\n",
    "ax2.hist(design[:,1], bins=25, label=\"random sample\", normed=True)\n",
    "x = np.arange(0,0.8,0.001)\n",
    "ax2.plot(x, lognorm(s=stdvs[1], scale=means[1]).pdf(x), \"r-\", label=\"log-normal\", )\n",
    "ax2.legend()\n",
    "\n",
    "ax3.hist(design[:,2], bins=25, label=\"random sample\", normed=True)\n",
    "x = np.arange(0,0.6,0.001)\n",
    "ax3.plot(x, lognorm(s=stdvs[2], scale=means[2]).pdf(x), \"r-\", label=\"normal\", )\n",
    "ax3.legend()\n",
    "\n"
   ]
  },
  {
   "cell_type": "markdown",
   "metadata": {},
   "source": [
    "If these distributions look OK, we can create the same data frame from it that we previously used to run the Monte-Carlos simulation. "
   ]
  },
  {
   "cell_type": "code",
   "execution_count": 10,
   "metadata": {
    "ExecuteTime": {
     "end_time": "2018-09-24T21:07:47.604000Z",
     "start_time": "2018-09-24T21:07:47.567000Z"
    },
    "scrolled": true
   },
   "outputs": [
    {
     "data": {
      "text/html": [
       "<div>\n",
       "<style scoped>\n",
       "    .dataframe tbody tr th:only-of-type {\n",
       "        vertical-align: middle;\n",
       "    }\n",
       "\n",
       "    .dataframe tbody tr th {\n",
       "        vertical-align: top;\n",
       "    }\n",
       "\n",
       "    .dataframe thead th {\n",
       "        text-align: right;\n",
       "    }\n",
       "</style>\n",
       "<table border=\"1\" class=\"dataframe\">\n",
       "  <thead>\n",
       "    <tr style=\"text-align: right;\">\n",
       "      <th></th>\n",
       "      <th>conductivity_body</th>\n",
       "      <th>conductivity_sealing</th>\n",
       "      <th>porosity</th>\n",
       "    </tr>\n",
       "  </thead>\n",
       "  <tbody>\n",
       "    <tr>\n",
       "      <th>0</th>\n",
       "      <td>7.704541</td>\n",
       "      <td>0.059627</td>\n",
       "      <td>0.163799</td>\n",
       "    </tr>\n",
       "    <tr>\n",
       "      <th>1</th>\n",
       "      <td>3.778405</td>\n",
       "      <td>0.055728</td>\n",
       "      <td>0.124198</td>\n",
       "    </tr>\n",
       "    <tr>\n",
       "      <th>2</th>\n",
       "      <td>11.254343</td>\n",
       "      <td>0.045254</td>\n",
       "      <td>0.224711</td>\n",
       "    </tr>\n",
       "    <tr>\n",
       "      <th>3</th>\n",
       "      <td>6.692874</td>\n",
       "      <td>0.112008</td>\n",
       "      <td>0.243269</td>\n",
       "    </tr>\n",
       "    <tr>\n",
       "      <th>4</th>\n",
       "      <td>7.329186</td>\n",
       "      <td>0.091377</td>\n",
       "      <td>0.207662</td>\n",
       "    </tr>\n",
       "    <tr>\n",
       "      <th>5</th>\n",
       "      <td>5.971593</td>\n",
       "      <td>0.080233</td>\n",
       "      <td>0.244070</td>\n",
       "    </tr>\n",
       "    <tr>\n",
       "      <th>6</th>\n",
       "      <td>8.021248</td>\n",
       "      <td>0.098465</td>\n",
       "      <td>0.261532</td>\n",
       "    </tr>\n",
       "    <tr>\n",
       "      <th>7</th>\n",
       "      <td>6.578651</td>\n",
       "      <td>0.335775</td>\n",
       "      <td>0.262394</td>\n",
       "    </tr>\n",
       "    <tr>\n",
       "      <th>8</th>\n",
       "      <td>17.578489</td>\n",
       "      <td>0.088341</td>\n",
       "      <td>0.169462</td>\n",
       "    </tr>\n",
       "    <tr>\n",
       "      <th>9</th>\n",
       "      <td>8.652246</td>\n",
       "      <td>0.137822</td>\n",
       "      <td>0.164171</td>\n",
       "    </tr>\n",
       "    <tr>\n",
       "      <th>10</th>\n",
       "      <td>2.445743</td>\n",
       "      <td>0.319125</td>\n",
       "      <td>0.225840</td>\n",
       "    </tr>\n",
       "    <tr>\n",
       "      <th>11</th>\n",
       "      <td>8.926893</td>\n",
       "      <td>0.065155</td>\n",
       "      <td>0.236767</td>\n",
       "    </tr>\n",
       "    <tr>\n",
       "      <th>12</th>\n",
       "      <td>10.295131</td>\n",
       "      <td>0.128571</td>\n",
       "      <td>0.229673</td>\n",
       "    </tr>\n",
       "    <tr>\n",
       "      <th>13</th>\n",
       "      <td>8.614203</td>\n",
       "      <td>0.078221</td>\n",
       "      <td>0.183361</td>\n",
       "    </tr>\n",
       "    <tr>\n",
       "      <th>14</th>\n",
       "      <td>10.142962</td>\n",
       "      <td>0.113260</td>\n",
       "      <td>0.204040</td>\n",
       "    </tr>\n",
       "    <tr>\n",
       "      <th>15</th>\n",
       "      <td>5.999577</td>\n",
       "      <td>0.093796</td>\n",
       "      <td>0.226483</td>\n",
       "    </tr>\n",
       "    <tr>\n",
       "      <th>16</th>\n",
       "      <td>14.523943</td>\n",
       "      <td>0.062593</td>\n",
       "      <td>0.193494</td>\n",
       "    </tr>\n",
       "    <tr>\n",
       "      <th>17</th>\n",
       "      <td>8.719790</td>\n",
       "      <td>0.027985</td>\n",
       "      <td>0.219027</td>\n",
       "    </tr>\n",
       "    <tr>\n",
       "      <th>18</th>\n",
       "      <td>3.668685</td>\n",
       "      <td>0.122270</td>\n",
       "      <td>0.153274</td>\n",
       "    </tr>\n",
       "    <tr>\n",
       "      <th>19</th>\n",
       "      <td>13.614172</td>\n",
       "      <td>0.028852</td>\n",
       "      <td>0.231428</td>\n",
       "    </tr>\n",
       "    <tr>\n",
       "      <th>20</th>\n",
       "      <td>8.293799</td>\n",
       "      <td>0.269487</td>\n",
       "      <td>0.232518</td>\n",
       "    </tr>\n",
       "    <tr>\n",
       "      <th>21</th>\n",
       "      <td>15.958628</td>\n",
       "      <td>0.048828</td>\n",
       "      <td>0.178151</td>\n",
       "    </tr>\n",
       "    <tr>\n",
       "      <th>22</th>\n",
       "      <td>5.212278</td>\n",
       "      <td>0.070175</td>\n",
       "      <td>0.223909</td>\n",
       "    </tr>\n",
       "    <tr>\n",
       "      <th>23</th>\n",
       "      <td>9.033697</td>\n",
       "      <td>0.131616</td>\n",
       "      <td>0.179778</td>\n",
       "    </tr>\n",
       "    <tr>\n",
       "      <th>24</th>\n",
       "      <td>5.335117</td>\n",
       "      <td>0.015285</td>\n",
       "      <td>0.208922</td>\n",
       "    </tr>\n",
       "    <tr>\n",
       "      <th>25</th>\n",
       "      <td>8.488620</td>\n",
       "      <td>0.235450</td>\n",
       "      <td>0.184464</td>\n",
       "    </tr>\n",
       "    <tr>\n",
       "      <th>26</th>\n",
       "      <td>11.807336</td>\n",
       "      <td>0.070975</td>\n",
       "      <td>0.202118</td>\n",
       "    </tr>\n",
       "    <tr>\n",
       "      <th>27</th>\n",
       "      <td>6.403340</td>\n",
       "      <td>0.039686</td>\n",
       "      <td>0.176146</td>\n",
       "    </tr>\n",
       "    <tr>\n",
       "      <th>28</th>\n",
       "      <td>9.104622</td>\n",
       "      <td>0.038411</td>\n",
       "      <td>0.258147</td>\n",
       "    </tr>\n",
       "    <tr>\n",
       "      <th>29</th>\n",
       "      <td>12.916509</td>\n",
       "      <td>0.072519</td>\n",
       "      <td>0.147925</td>\n",
       "    </tr>\n",
       "    <tr>\n",
       "      <th>...</th>\n",
       "      <td>...</td>\n",
       "      <td>...</td>\n",
       "      <td>...</td>\n",
       "    </tr>\n",
       "    <tr>\n",
       "      <th>220</th>\n",
       "      <td>12.874179</td>\n",
       "      <td>0.130554</td>\n",
       "      <td>0.164985</td>\n",
       "    </tr>\n",
       "    <tr>\n",
       "      <th>221</th>\n",
       "      <td>11.431019</td>\n",
       "      <td>0.164017</td>\n",
       "      <td>0.214642</td>\n",
       "    </tr>\n",
       "    <tr>\n",
       "      <th>222</th>\n",
       "      <td>7.252198</td>\n",
       "      <td>0.071236</td>\n",
       "      <td>0.186357</td>\n",
       "    </tr>\n",
       "    <tr>\n",
       "      <th>223</th>\n",
       "      <td>11.762256</td>\n",
       "      <td>0.080654</td>\n",
       "      <td>0.234515</td>\n",
       "    </tr>\n",
       "    <tr>\n",
       "      <th>224</th>\n",
       "      <td>8.326787</td>\n",
       "      <td>0.147214</td>\n",
       "      <td>0.160282</td>\n",
       "    </tr>\n",
       "    <tr>\n",
       "      <th>225</th>\n",
       "      <td>5.483298</td>\n",
       "      <td>0.035025</td>\n",
       "      <td>0.197684</td>\n",
       "    </tr>\n",
       "    <tr>\n",
       "      <th>226</th>\n",
       "      <td>7.285269</td>\n",
       "      <td>0.168586</td>\n",
       "      <td>0.265211</td>\n",
       "    </tr>\n",
       "    <tr>\n",
       "      <th>227</th>\n",
       "      <td>12.469500</td>\n",
       "      <td>0.364219</td>\n",
       "      <td>0.194246</td>\n",
       "    </tr>\n",
       "    <tr>\n",
       "      <th>228</th>\n",
       "      <td>7.880786</td>\n",
       "      <td>0.048413</td>\n",
       "      <td>0.146216</td>\n",
       "    </tr>\n",
       "    <tr>\n",
       "      <th>229</th>\n",
       "      <td>11.848668</td>\n",
       "      <td>0.146713</td>\n",
       "      <td>0.170813</td>\n",
       "    </tr>\n",
       "    <tr>\n",
       "      <th>230</th>\n",
       "      <td>10.237165</td>\n",
       "      <td>0.051134</td>\n",
       "      <td>0.138987</td>\n",
       "    </tr>\n",
       "    <tr>\n",
       "      <th>231</th>\n",
       "      <td>10.527538</td>\n",
       "      <td>0.063046</td>\n",
       "      <td>0.185014</td>\n",
       "    </tr>\n",
       "    <tr>\n",
       "      <th>232</th>\n",
       "      <td>5.646732</td>\n",
       "      <td>0.034524</td>\n",
       "      <td>0.199382</td>\n",
       "    </tr>\n",
       "    <tr>\n",
       "      <th>233</th>\n",
       "      <td>13.138518</td>\n",
       "      <td>0.112505</td>\n",
       "      <td>0.188418</td>\n",
       "    </tr>\n",
       "    <tr>\n",
       "      <th>234</th>\n",
       "      <td>7.993092</td>\n",
       "      <td>0.054878</td>\n",
       "      <td>0.195334</td>\n",
       "    </tr>\n",
       "    <tr>\n",
       "      <th>235</th>\n",
       "      <td>18.459283</td>\n",
       "      <td>0.061664</td>\n",
       "      <td>0.185507</td>\n",
       "    </tr>\n",
       "    <tr>\n",
       "      <th>236</th>\n",
       "      <td>5.355394</td>\n",
       "      <td>0.102396</td>\n",
       "      <td>0.139983</td>\n",
       "    </tr>\n",
       "    <tr>\n",
       "      <th>237</th>\n",
       "      <td>2.964530</td>\n",
       "      <td>0.195531</td>\n",
       "      <td>0.266905</td>\n",
       "    </tr>\n",
       "    <tr>\n",
       "      <th>238</th>\n",
       "      <td>11.947846</td>\n",
       "      <td>0.101689</td>\n",
       "      <td>0.209837</td>\n",
       "    </tr>\n",
       "    <tr>\n",
       "      <th>239</th>\n",
       "      <td>9.884381</td>\n",
       "      <td>0.058626</td>\n",
       "      <td>0.097066</td>\n",
       "    </tr>\n",
       "    <tr>\n",
       "      <th>240</th>\n",
       "      <td>5.933132</td>\n",
       "      <td>0.075152</td>\n",
       "      <td>0.213864</td>\n",
       "    </tr>\n",
       "    <tr>\n",
       "      <th>241</th>\n",
       "      <td>11.306000</td>\n",
       "      <td>0.107944</td>\n",
       "      <td>0.208135</td>\n",
       "    </tr>\n",
       "    <tr>\n",
       "      <th>242</th>\n",
       "      <td>16.958351</td>\n",
       "      <td>0.047268</td>\n",
       "      <td>0.142438</td>\n",
       "    </tr>\n",
       "    <tr>\n",
       "      <th>243</th>\n",
       "      <td>7.344408</td>\n",
       "      <td>0.188790</td>\n",
       "      <td>0.233729</td>\n",
       "    </tr>\n",
       "    <tr>\n",
       "      <th>244</th>\n",
       "      <td>20.033392</td>\n",
       "      <td>0.249957</td>\n",
       "      <td>0.235452</td>\n",
       "    </tr>\n",
       "    <tr>\n",
       "      <th>245</th>\n",
       "      <td>8.254400</td>\n",
       "      <td>0.075714</td>\n",
       "      <td>0.210263</td>\n",
       "    </tr>\n",
       "    <tr>\n",
       "      <th>246</th>\n",
       "      <td>7.497315</td>\n",
       "      <td>0.150330</td>\n",
       "      <td>0.173434</td>\n",
       "    </tr>\n",
       "    <tr>\n",
       "      <th>247</th>\n",
       "      <td>12.562829</td>\n",
       "      <td>0.091677</td>\n",
       "      <td>0.223406</td>\n",
       "    </tr>\n",
       "    <tr>\n",
       "      <th>248</th>\n",
       "      <td>12.630681</td>\n",
       "      <td>0.068848</td>\n",
       "      <td>0.161198</td>\n",
       "    </tr>\n",
       "    <tr>\n",
       "      <th>249</th>\n",
       "      <td>11.101353</td>\n",
       "      <td>0.281146</td>\n",
       "      <td>0.272032</td>\n",
       "    </tr>\n",
       "  </tbody>\n",
       "</table>\n",
       "<p>250 rows × 3 columns</p>\n",
       "</div>"
      ],
      "text/plain": [
       "     conductivity_body  conductivity_sealing  porosity\n",
       "0             7.704541              0.059627  0.163799\n",
       "1             3.778405              0.055728  0.124198\n",
       "2            11.254343              0.045254  0.224711\n",
       "3             6.692874              0.112008  0.243269\n",
       "4             7.329186              0.091377  0.207662\n",
       "5             5.971593              0.080233  0.244070\n",
       "6             8.021248              0.098465  0.261532\n",
       "7             6.578651              0.335775  0.262394\n",
       "8            17.578489              0.088341  0.169462\n",
       "9             8.652246              0.137822  0.164171\n",
       "10            2.445743              0.319125  0.225840\n",
       "11            8.926893              0.065155  0.236767\n",
       "12           10.295131              0.128571  0.229673\n",
       "13            8.614203              0.078221  0.183361\n",
       "14           10.142962              0.113260  0.204040\n",
       "15            5.999577              0.093796  0.226483\n",
       "16           14.523943              0.062593  0.193494\n",
       "17            8.719790              0.027985  0.219027\n",
       "18            3.668685              0.122270  0.153274\n",
       "19           13.614172              0.028852  0.231428\n",
       "20            8.293799              0.269487  0.232518\n",
       "21           15.958628              0.048828  0.178151\n",
       "22            5.212278              0.070175  0.223909\n",
       "23            9.033697              0.131616  0.179778\n",
       "24            5.335117              0.015285  0.208922\n",
       "25            8.488620              0.235450  0.184464\n",
       "26           11.807336              0.070975  0.202118\n",
       "27            6.403340              0.039686  0.176146\n",
       "28            9.104622              0.038411  0.258147\n",
       "29           12.916509              0.072519  0.147925\n",
       "..                 ...                   ...       ...\n",
       "220          12.874179              0.130554  0.164985\n",
       "221          11.431019              0.164017  0.214642\n",
       "222           7.252198              0.071236  0.186357\n",
       "223          11.762256              0.080654  0.234515\n",
       "224           8.326787              0.147214  0.160282\n",
       "225           5.483298              0.035025  0.197684\n",
       "226           7.285269              0.168586  0.265211\n",
       "227          12.469500              0.364219  0.194246\n",
       "228           7.880786              0.048413  0.146216\n",
       "229          11.848668              0.146713  0.170813\n",
       "230          10.237165              0.051134  0.138987\n",
       "231          10.527538              0.063046  0.185014\n",
       "232           5.646732              0.034524  0.199382\n",
       "233          13.138518              0.112505  0.188418\n",
       "234           7.993092              0.054878  0.195334\n",
       "235          18.459283              0.061664  0.185507\n",
       "236           5.355394              0.102396  0.139983\n",
       "237           2.964530              0.195531  0.266905\n",
       "238          11.947846              0.101689  0.209837\n",
       "239           9.884381              0.058626  0.097066\n",
       "240           5.933132              0.075152  0.213864\n",
       "241          11.306000              0.107944  0.208135\n",
       "242          16.958351              0.047268  0.142438\n",
       "243           7.344408              0.188790  0.233729\n",
       "244          20.033392              0.249957  0.235452\n",
       "245           8.254400              0.075714  0.210263\n",
       "246           7.497315              0.150330  0.173434\n",
       "247          12.562829              0.091677  0.223406\n",
       "248          12.630681              0.068848  0.161198\n",
       "249          11.101353              0.281146  0.272032\n",
       "\n",
       "[250 rows x 3 columns]"
      ]
     },
     "execution_count": 10,
     "metadata": {},
     "output_type": "execute_result"
    }
   ],
   "source": [
    "# create a new data frame:\n",
    "df_simulations = pd.DataFrame()\n",
    "\n",
    "# add the vectors of parameter values as new columns to the data frame\n",
    "df_simulations[\"conductivity_body\"] = design[:,0]\n",
    "df_simulations[\"conductivity_sealing\"] = design[:,1]\n",
    "df_simulations[\"porosity\"] = design[:,2]\n",
    "\n",
    "df_simulations"
   ]
  },
  {
   "cell_type": "markdown",
   "metadata": {},
   "source": [
    "## Experimental Test Designs\n",
    "\n",
    "Monte-Carlo Tests require a certain minimum amounts of simulation runs to be successfully.\n",
    "Ideally, your model should be designed to have a reasonable runtime that allows to conduct these runs in reasonable time.\n",
    "\n",
    "Practically however, a model may not be able to do this (because it is too large, has become unstable) and we have to make do. Experimental designs can help here.\n",
    "\n",
    "Experimental designs - also known as Design-of-Experiments (DoX or DoE) - have been originally developed in Chemical Engineering to optimize campaigns of (expensive and/or time-consuming) physical experiemnts. They are being applied in sensitivity analysis of numerical models as well.\n",
    "\n",
    "An experimental design is typically a closed plan, which experiments / model runs are to be conducted. In most cases, the choice for these experiments only makes sense of the complete test plan is conducted.\n",
    "\n",
    "### One-at-a-Time (OaaT) Design \n",
    "\n",
    "The probably most common design used in sensitivity analysis in groundwater modelling is the One-at-a-Time (OaaT) design. The test plans is conducted by running a base scenario (all parameters are at base value), and then changing a single parameter at a tiem to one or more factor levels different from the base levels.\n",
    "\n",
    "Even though this is a very common strategy, it is not recommended as it has a number of shortcomings:\n",
    "+ combined effects of two or more parameters cannot be determined\n",
    "+ the variation of the model result is usually underestimated\n",
    "+ a lot of unnecessary runs are taken, as most parameters combinations are almost identical\n",
    "\n",
    "### Full-Factorial Design\n",
    "\n",
    "A full-factorial design requires that for each parameter a certain number of factor levels is defined - often two (high or low) or three (high, mean or low), and then all possible combinations are being tested.\n",
    "\n",
    "This obviously avoid a number of shortfalls of the OaaT approach, in particular the effect of every combination (at all order) can be determined. At the same time the effort increases fast with the number of parameters and factor level, thus that the method is only applicable to very low numbers of paramters.\n",
    "\n",
    "The cost is also often unnecessary, as most high order combinations of parameters have no measurable effect on the result.\n",
    "\n",
    "Example below shows a two-level design with 4 parameters, requiring 16 simulations to complete."
   ]
  },
  {
   "cell_type": "code",
   "execution_count": 11,
   "metadata": {
    "ExecuteTime": {
     "end_time": "2018-09-24T21:07:47.815000Z",
     "start_time": "2018-09-24T21:07:47.707000Z"
    }
   },
   "outputs": [
    {
     "name": "stdout",
     "output_type": "stream",
     "text": [
      "[[-1.  1. -1.  1. -1.  1. -1.  1. -1.  1. -1.  1. -1.  1. -1.  1.]\n",
      " [-1. -1.  1.  1. -1. -1.  1.  1. -1. -1.  1.  1. -1. -1.  1.  1.]\n",
      " [-1. -1. -1. -1.  1.  1.  1.  1. -1. -1. -1. -1.  1.  1.  1.  1.]\n",
      " [-1. -1. -1. -1. -1. -1. -1. -1.  1.  1.  1.  1.  1.  1.  1.  1.]]\n"
     ]
    },
    {
     "data": {
      "image/png": "[encoded data removed]",
      "text/plain": [
       "<matplotlib.figure.Figure at 0xdef8860>"
      ]
     },
     "metadata": {},
     "output_type": "display_data"
    }
   ],
   "source": [
    "design = pydoe.ff2n(4)\n",
    "print(design.T)\n",
    "plt.matshow(design.T, fignum=False)\n",
    "plt.xlabel(\"Samples\")\n",
    "plt.ylabel(\"Factors\")\n",
    "plt.show()"
   ]
  },
  {
   "cell_type": "markdown",
   "metadata": {},
   "source": [
    "### Fractional Factorial\n",
    "\n",
    "Good for:\n",
    "+ long running models, limited time\n",
    "+ sensitivity analysis (not uncertainty analysis)\n",
    "\n",
    "A [fractional factorial](https://en.wikipedia.org/wiki/Fractional_factorial_design) design improves the efficiency of a test plan by making use of the usually irrelevant influence of high-order parameter interactions.\n",
    "\n",
    "Take for example the case of a 3-parameter full-factorial design with parameter [a, b, c]:\n",
    "\n",
    "The design can test the influence of \n",
    "+ all parameters - called main effects - (a,b,c), \n",
    "+ all first-level interactions (ab, ac, bc)\n",
    "+ the second-level interaction (abc)\n",
    "\n",
    "Significant influences of interactions are getting less likely the more parameters are involved.\n",
    "Without showing the (somewhat lengthy) proof here, this can be used to our advantage.\n",
    "\n",
    "Since we do not expect to find any correlation of the second order interaction with the model result, we can use this for testing an additional parameter. We simply set the factor level (here: -1 or 1) of the additional parameter following the factor level of the combination. This approach is called \"folding\".\n",
    "\n",
    "As a result, we get one factor for free. The example below is the fractional factorial version of the full-factorial design above, with one parameter folded (d = abc). It can test the same parameters range with only half the number of model runs, at the cost of sacrificing detection of the (unlikely) three-parameter interaction."
   ]
  },
  {
   "cell_type": "code",
   "execution_count": 12,
   "metadata": {
    "ExecuteTime": {
     "end_time": "2018-09-24T21:07:48.141000Z",
     "start_time": "2018-09-24T21:07:48.026000Z"
    }
   },
   "outputs": [
    {
     "name": "stdout",
     "output_type": "stream",
     "text": [
      "[[-1.  1. -1.  1. -1.  1. -1.  1.]\n",
      " [-1. -1.  1.  1. -1. -1.  1.  1.]\n",
      " [-1. -1. -1. -1.  1.  1.  1.  1.]\n",
      " [-1.  1.  1. -1.  1. -1. -1.  1.]]\n"
     ]
    },
    {
     "data": {
      "image/png": "[encoded data removed]",
      "text/plain": [
       "<matplotlib.figure.Figure at 0xe6ac9b0>"
      ]
     },
     "metadata": {},
     "output_type": "display_data"
    }
   ],
   "source": [
    "design = pydoe.fracfact('a b c abc')\n",
    "print(design.T)\n",
    "plt.matshow(design.T, fignum=False)\n",
    "plt.xlabel(\"Samples\")\n",
    "plt.ylabel(\"Factors\")\n",
    "plt.show()"
   ]
  },
  {
   "cell_type": "markdown",
   "metadata": {},
   "source": [
    "### Placket-Burman\n",
    "\n",
    "[Plackett–Burman designs](https://en.wikipedia.org/wiki/Plackett–Burman_design) *are experimental designs presented in 1946 by Robin L. Plackett and J. P. Burman while working in the British Ministry of Supply.[1] Their goal was to find experimental designs for investigating the dependence of some measured quantity on a number of independent variables (factors), each taking L levels, in such a way as to minimize the variance of the estimates of these dependencies using a limited number of experiments. Interactions between the factors were considered negligible. The solution to this problem is to find an experimental design where each combination of levels for any pair of factors appears the same number of times, throughout all the experimental runs (refer to table). A complete factorial design would satisfy this criterion, but the idea was to find smaller designs.* \n",
    "\n",
    "*For the case of more than two levels, Plackett and Burman rediscovered designs that had previously been given by Raj Chandra Bose and K. Kishen at the Indian Statistical Institute.[4] Plackett and Burman give specifics for designs having a number of experiments equal to the number of levels L to some integer power, for L = 3, 4, 5, or 7.*\n",
    "\n",
    "*When interactions between factors are not negligible, they are often confounded in Plackett–Burman designs with the main effects, meaning that the designs do not permit one to distinguish between certain main effects and certain interactions. This is called aliasing or confounding.*\n",
    "\n",
    "from Wikipedia"
   ]
  },
  {
   "cell_type": "code",
   "execution_count": 13,
   "metadata": {
    "ExecuteTime": {
     "end_time": "2018-09-24T21:07:48.462000Z",
     "start_time": "2018-09-24T21:07:48.352000Z"
    }
   },
   "outputs": [
    {
     "name": "stdout",
     "output_type": "stream",
     "text": [
      "[[ 1. -1.  1.  1.  1. -1. -1. -1.  1. -1. -1.  1.]\n",
      " [-1.  1.  1.  1. -1. -1. -1.  1. -1. -1.  1.  1.]\n",
      " [ 1.  1.  1. -1. -1. -1.  1. -1. -1.  1. -1.  1.]\n",
      " [ 1.  1. -1. -1. -1.  1. -1. -1.  1. -1.  1.  1.]\n",
      " [ 1. -1. -1. -1.  1. -1. -1.  1. -1.  1.  1.  1.]\n",
      " [-1. -1. -1.  1. -1. -1.  1. -1.  1.  1.  1.  1.]\n",
      " [-1. -1.  1. -1. -1.  1. -1.  1.  1.  1. -1.  1.]\n",
      " [-1.  1. -1. -1.  1. -1.  1.  1.  1. -1. -1.  1.]\n",
      " [ 1. -1. -1.  1. -1.  1.  1.  1. -1. -1. -1.  1.]\n",
      " [-1. -1.  1. -1.  1.  1.  1. -1. -1. -1.  1.  1.]\n",
      " [-1.  1. -1.  1.  1.  1. -1. -1. -1.  1. -1.  1.]]\n"
     ]
    },
    {
     "data": {
      "image/png": "[encoded data removed]",
      "text/plain": [
       "<matplotlib.figure.Figure at 0xec634e0>"
      ]
     },
     "metadata": {},
     "output_type": "display_data"
    },
    {
     "name": "stdout",
     "output_type": "stream",
     "text": [
      "Placket-Burman Plan with 11 factors\n"
     ]
    }
   ],
   "source": [
    "design = pydoe.pbdesign(11)\n",
    "print(design.T)\n",
    "plt.matshow(design.T, fignum=False)\n",
    "plt.xlabel(\"Samples\")\n",
    "plt.ylabel(\"Factors\")\n",
    "plt.show()\n",
    "print(\"Placket-Burman Plan with 11 factors\")"
   ]
  },
  {
   "cell_type": "code",
   "execution_count": 14,
   "metadata": {
    "ExecuteTime": {
     "end_time": "2018-09-24T21:07:48.587000Z",
     "start_time": "2018-09-24T21:07:48.467000Z"
    }
   },
   "outputs": [
    {
     "data": {
      "image/png": "[encoded data removed]",
      "text/plain": [
       "<matplotlib.figure.Figure at 0xbd5d128>"
      ]
     },
     "metadata": {},
     "output_type": "display_data"
    },
    {
     "name": "stdout",
     "output_type": "stream",
     "text": [
      "Effort of Placket-Burman designs with increasing factor number\n"
     ]
    }
   ],
   "source": [
    "plt.plot(range(3,20), [len(pydoe.pbdesign(n)) for n in range(3,20)], \"o-\")\n",
    "plt.ylabel(\"Samples\")\n",
    "plt.xlabel(\"Factors\")\n",
    "plt.show()\n",
    "print(\"Effort of Placket-Burman designs with increasing factor number\")"
   ]
  },
  {
   "cell_type": "markdown",
   "metadata": {},
   "source": [
    "### Box-Behnken Design (3-Factor Level)\n",
    "\n",
    "Good for:\n",
    "+ Model is reasonably fast or number of factors is low\n",
    "+ It is supposed to look like a traditional sensitivity analysis (3 factor levels, OaaT design) \n",
    "+ sensitivity analysis\n",
    "+ worst / best case testing\n",
    "\n",
    "A Box-Behnken Design uses three factor levels (High, Mean, Low). Each pair-wise combination of parameters are tested (4 different combinations), while keeping all other parameters at center level.\n",
    "\n",
    "The BB-Design can be seens as a compromise between a OaaT-Design and a fractional-factorial design. This makes it feasible where traditional sensitivity analysis is required by project specs. The Effort is significantly higher, but allows for testing parameter combinations of first level."
   ]
  },
  {
   "cell_type": "code",
   "execution_count": 15,
   "metadata": {
    "ExecuteTime": {
     "end_time": "2018-09-24T21:07:49.013000Z",
     "start_time": "2018-09-24T21:07:48.695000Z"
    }
   },
   "outputs": [
    {
     "data": {
      "image/png": "[encoded data removed]",
      "text/plain": [
       "<matplotlib.figure.Figure at 0xeec13c8>"
      ]
     },
     "metadata": {},
     "output_type": "display_data"
    },
    {
     "name": "stdout",
     "output_type": "stream",
     "text": [
      "Box-Behnken Design with 3 factors \n"
     ]
    },
    {
     "data": {
      "image/png": "[encoded data removed]",
      "text/plain": [
       "<matplotlib.figure.Figure at 0xf18de48>"
      ]
     },
     "metadata": {},
     "output_type": "display_data"
    },
    {
     "name": "stdout",
     "output_type": "stream",
     "text": [
      "Box-Behnken Design with 4 factors \n"
     ]
    },
    {
     "data": {
      "image/png": "[encoded data removed]",
      "text/plain": [
       "<matplotlib.figure.Figure at 0xf2634e0>"
      ]
     },
     "metadata": {},
     "output_type": "display_data"
    },
    {
     "name": "stdout",
     "output_type": "stream",
     "text": [
      "Box-Behnken Design with 6 factors \n"
     ]
    }
   ],
   "source": [
    "# 3 factors\n",
    "design = pydoe.bbdesign(3, center=1)\n",
    "plt.matshow(design.T, fignum=False)\n",
    "plt.xlabel(\"Samples\")\n",
    "plt.ylabel(\"Factors\")\n",
    "plt.show()\n",
    "print(\"Box-Behnken Design with 3 factors \")\n",
    "\n",
    "# 4 factors\n",
    "design = pydoe.bbdesign(4, center=1)\n",
    "plt.matshow(design.T, fignum=False)\n",
    "plt.xlabel(\"Samples\")\n",
    "plt.ylabel(\"Factors\")\n",
    "plt.show()\n",
    "print(\"Box-Behnken Design with 4 factors \")\n",
    "\n",
    "# 5 factors\n",
    "design = pydoe.bbdesign(6, center=1)\n",
    "plt.matshow(design.T, fignum=15)\n",
    "plt.xlabel(\"Samples\")\n",
    "plt.ylabel(\"Factors\")\n",
    "plt.show()\n",
    "print(\"Box-Behnken Design with 6 factors \")"
   ]
  },
  {
   "cell_type": "code",
   "execution_count": 16,
   "metadata": {
    "ExecuteTime": {
     "end_time": "2018-09-24T21:07:49.134000Z",
     "start_time": "2018-09-24T21:07:49.016000Z"
    }
   },
   "outputs": [
    {
     "data": {
      "image/png": "[encoded data removed]",
      "text/plain": [
       "<matplotlib.figure.Figure at 0xede04e0>"
      ]
     },
     "metadata": {},
     "output_type": "display_data"
    },
    {
     "name": "stdout",
     "output_type": "stream",
     "text": [
      "Effort of Box-Behnken designs with increasing factor number\n"
     ]
    }
   ],
   "source": [
    "plt.plot(range(3,15), [len(pydoe.bbdesign(n, center=1)) for n in range(3,15)], \"o-\")\n",
    "plt.ylabel(\"Samples\")\n",
    "plt.xlabel(\"Factors\")\n",
    "plt.show()\n",
    "print(\"Effort of Box-Behnken designs with increasing factor number\")"
   ]
  }
 ],
 "metadata": {
  "hide_input": false,
  "kernelspec": {
   "display_name": "Python 2.7 Test",
   "language": "python",
   "name": "py27_test"
  },
  "language_info": {
   "codemirror_mode": {
    "name": "ipython",
    "version": 2
   },
   "file_extension": ".py",
   "mimetype": "text/x-python",
   "name": "python",
   "nbconvert_exporter": "python",
   "pygments_lexer": "ipython2",
   "version": "2.7.14"
  },
  "toc": {
   "nav_menu": {},
   "number_sections": true,
   "sideBar": true,
   "skip_h1_title": true,
   "toc_cell": false,
   "toc_position": {},
   "toc_section_display": "block",
   "toc_window_display": false
  },
  "varInspector": {
   "cols": {
    "lenName": 16,
    "lenType": 16,
    "lenVar": 40
   },
   "kernels_config": {
    "python": {
     "delete_cmd_postfix": "",
     "delete_cmd_prefix": "del ",
     "library": "var_list.py",
     "varRefreshCmd": "print(var_dic_list())"
    },
    "r": {
     "delete_cmd_postfix": ") ",
     "delete_cmd_prefix": "rm(",
     "library": "var_list.r",
     "varRefreshCmd": "cat(var_dic_list()) "
    }
   },
   "types_to_exclude": [
    "module",
    "function",
    "builtin_function_or_method",
    "instance",
    "_Feature"
   ],
   "window_display": false
  }
 },
 "nbformat": 4,
 "nbformat_minor": 2
}
